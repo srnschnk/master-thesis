{
 "cells": [
  {
   "cell_type": "code",
   "execution_count": 1,
   "metadata": {},
   "outputs": [
    {
     "name": "stdout",
     "output_type": "stream",
     "text": [
      "File not found. Make sure the path is correct.\n"
     ]
    }
   ],
   "source": [
    "import pandas as pd\n",
    "import pickle\n",
    "\n",
    "# Path to the output file\n",
    "output_dict_path = './data/output/outputDict'\n",
    "\n",
    "# Load the pickled DataFrame\n",
    "try:\n",
    "    with open(output_dict_path, 'rb') as file:\n",
    "        output_df = pickle.load(file)\n",
    "    print(\"Loaded prediction data successfully.\")\n",
    "    print(output_df.head())  # Display the first few rows to confirm the contents\n",
    "\n",
    "    # Optionally, you can now manipulate or inspect this DataFrame further:\n",
    "    # For example, calculate additional metrics, plot data, or save to CSV.\n",
    "    output_df.to_csv('./data/output/predictions.csv', index=False)  # Save to CSV if needed\n",
    "\n",
    "except FileNotFoundError:\n",
    "    print(\"File not found. Make sure the path is correct.\")\n",
    "except Exception as e:\n",
    "    print(f\"An error occurred: {e}\")\n"
   ]
  },
  {
   "cell_type": "code",
   "execution_count": null,
   "metadata": {},
   "outputs": [],
   "source": []
  }
 ],
 "metadata": {
  "kernelspec": {
   "display_name": "Python 3",
   "language": "python",
   "name": "python3"
  },
  "language_info": {
   "codemirror_mode": {
    "name": "ipython",
    "version": 3
   },
   "file_extension": ".py",
   "mimetype": "text/x-python",
   "name": "python",
   "nbconvert_exporter": "python",
   "pygments_lexer": "ipython3",
   "version": "3.11.3"
  }
 },
 "nbformat": 4,
 "nbformat_minor": 2
}
